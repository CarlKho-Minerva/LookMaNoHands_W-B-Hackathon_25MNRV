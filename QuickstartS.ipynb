{
 "cells": [
  {
   "cell_type": "code",
   "execution_count": null,
   "metadata": {},
   "outputs": [],
   "source": [
    "!pip install together -q\n",
    "!pip install python-dotenv -q\n"
   ]
  },
  {
   "cell_type": "markdown",
   "metadata": {},
   "source": [
    "### Together AI"
   ]
  },
  {
   "cell_type": "code",
   "execution_count": 5,
   "metadata": {},
   "outputs": [
    {
     "name": "stdout",
     "output_type": "stream",
     "text": [
      "New York! The city that never sleeps. There are countless fun things to do in New York, depending on your interests. Here are some popular attractions and activities:\n",
      "\n",
      "1. **Iconic landmarks**: Visit the Statue of Liberty, Central Park, Times Square, Brooklyn Bridge, and the Empire State Building.\n",
      "2. **Museums**: Explore the Metropolitan Museum of Art, American Museum of Natural History, Museum of Modern Art (MoMA), and the Guggenheim Museum.\n",
      "3. **Broadway shows**: Catch a performance of a hit musical or play on Broadway.\n",
      "4. **Food**: Try a classic New York-style pizza, bagel, or hot dog from a street cart. Visit iconic eateries like Katz's Delicatessen, Carbone, or Peter Luger Steak House.\n",
      "5. **Neighborhoods**: Explore the unique character of neighborhoods like SoHo, Greenwich Village, Chinatown, and Williamsburg.\n",
      "6. **Sports**: Catch a Yankees or Mets game at Yankee Stadium or Citi Field, or watch a basketball game at Madison Square Garden.\n",
      "7. **Shopping**: Visit iconic department stores like Macy's, Bloomingdale's, or Saks Fifth Avenue, or browse the boutiques in SoHo or the West Village.\n",
      "8. **Nightlife**: Enjoy the city's vibrant nightlife in areas like the Meatpacking District, Greenwich Village, or Brooklyn's Bushwick neighborhood.\n",
      "\n",
      "As for Carl Kho, I couldn't find any information on a person with that name. It's possible that Carl Kho is a private individual or not a public figure. If you could provide more context or details about who Carl Kho is or what he is known for, I may be able to help you better.\n",
      "\n",
      "If you're planning a trip to New York, I'd be happy to help you with more specific recommendations or suggestions based on your interests!\n"
     ]
    }
   ],
   "source": [
    "from together import Together\n",
    "from dotenv import load_dotenv\n",
    "\n",
    "load_dotenv(override=True)\n",
    "\n",
    "client = Together()\n",
    "\n",
    "response = client.chat.completions.create(\n",
    "    model=\"meta-llama/Llama-3.3-70B-Instruct-Turbo\",\n",
    "    messages=[\n",
    "        {\n",
    "            \"role\": \"user\",\n",
    "            \"content\": \"What are some fun things to do in New York? Who is Carl Kho?\",\n",
    "        }\n",
    "    ],\n",
    ")\n",
    "print(response.choices[0].message.content)"
   ]
  },
  {
   "cell_type": "markdown",
   "metadata": {},
   "source": [
    "### W&B Weave"
   ]
  },
  {
   "cell_type": "code",
   "execution_count": 7,
   "metadata": {},
   "outputs": [
    {
     "name": "stdout",
     "output_type": "stream",
     "text": [
      "\u001b[33mWARNING: Ignoring invalid distribution ~ytest (/opt/homebrew/lib/python3.11/site-packages)\u001b[0m\u001b[33m\n",
      "\u001b[0mCollecting weave\n",
      "  Using cached weave-0.51.33-py3-none-any.whl.metadata (22 kB)\n",
      "Collecting diskcache==5.6.3 (from weave)\n",
      "  Using cached diskcache-5.6.3-py3-none-any.whl.metadata (20 kB)\n",
      "Collecting emoji>=2.12.1 (from weave)\n",
      "  Using cached emoji-2.14.1-py3-none-any.whl.metadata (5.7 kB)\n",
      "Collecting gql[aiohttp,requests] (from weave)\n",
      "  Using cached gql-3.5.0-py2.py3-none-any.whl.metadata (9.2 kB)\n",
      "Collecting jsonschema>=4.23.0 (from weave)\n",
      "  Using cached jsonschema-4.23.0-py3-none-any.whl.metadata (7.9 kB)\n",
      "Requirement already satisfied: numpy>1.21.0 in /opt/homebrew/lib/python3.11/site-packages (from weave) (1.26.4)\n",
      "Requirement already satisfied: packaging>=21.0 in /opt/homebrew/lib/python3.11/site-packages (from weave) (23.2)\n",
      "Requirement already satisfied: pydantic>=2.0.0 in /opt/homebrew/lib/python3.11/site-packages (from weave) (2.10.6)\n",
      "Requirement already satisfied: rich in /opt/homebrew/lib/python3.11/site-packages (from weave) (13.9.4)\n",
      "Collecting tenacity!=8.4.0,>=8.3.0 (from weave)\n",
      "  Using cached tenacity-9.0.0-py3-none-any.whl.metadata (1.2 kB)\n",
      "Collecting uuid-utils>=0.9.0 (from weave)\n",
      "  Using cached uuid_utils-0.10.0-cp39-abi3-macosx_10_12_x86_64.macosx_11_0_arm64.macosx_10_12_universal2.whl.metadata (4.9 kB)\n",
      "Collecting wandb>=0.17.1 (from weave)\n",
      "  Using cached wandb-0.19.6-py3-none-macosx_11_0_arm64.whl.metadata (10 kB)\n",
      "Requirement already satisfied: attrs>=22.2.0 in /opt/homebrew/lib/python3.11/site-packages (from jsonschema>=4.23.0->weave) (23.1.0)\n",
      "Requirement already satisfied: jsonschema-specifications>=2023.03.6 in /opt/homebrew/lib/python3.11/site-packages (from jsonschema>=4.23.0->weave) (2023.12.1)\n",
      "Requirement already satisfied: referencing>=0.28.4 in /opt/homebrew/lib/python3.11/site-packages (from jsonschema>=4.23.0->weave) (0.33.0)\n",
      "Requirement already satisfied: rpds-py>=0.7.1 in /opt/homebrew/lib/python3.11/site-packages (from jsonschema>=4.23.0->weave) (0.18.0)\n",
      "Requirement already satisfied: annotated-types>=0.6.0 in /opt/homebrew/lib/python3.11/site-packages (from pydantic>=2.0.0->weave) (0.6.0)\n",
      "Requirement already satisfied: pydantic-core==2.27.2 in /opt/homebrew/lib/python3.11/site-packages (from pydantic>=2.0.0->weave) (2.27.2)\n",
      "Requirement already satisfied: typing-extensions>=4.12.2 in /opt/homebrew/lib/python3.11/site-packages (from pydantic>=2.0.0->weave) (4.12.2)\n",
      "Requirement already satisfied: click!=8.0.0,>=7.1 in /opt/homebrew/lib/python3.11/site-packages (from wandb>=0.17.1->weave) (8.1.8)\n",
      "Collecting docker-pycreds>=0.4.0 (from wandb>=0.17.1->weave)\n",
      "  Using cached docker_pycreds-0.4.0-py2.py3-none-any.whl.metadata (1.8 kB)\n",
      "Requirement already satisfied: gitpython!=3.1.29,>=1.0.0 in /opt/homebrew/lib/python3.11/site-packages (from wandb>=0.17.1->weave) (3.1.42)\n",
      "Requirement already satisfied: platformdirs in /Users/cvk/Library/Python/3.11/lib/python/site-packages (from wandb>=0.17.1->weave) (3.8.0)\n",
      "Requirement already satisfied: protobuf!=4.21.0,!=5.28.0,<6,>=3.19.0 in /opt/homebrew/lib/python3.11/site-packages (from wandb>=0.17.1->weave) (5.29.3)\n",
      "Requirement already satisfied: psutil>=5.0.0 in /Users/cvk/Library/Python/3.11/lib/python/site-packages (from wandb>=0.17.1->weave) (5.9.5)\n",
      "Requirement already satisfied: pyyaml in /opt/homebrew/lib/python3.11/site-packages (from wandb>=0.17.1->weave) (6.0)\n",
      "Requirement already satisfied: requests<3,>=2.0.0 in /opt/homebrew/lib/python3.11/site-packages (from wandb>=0.17.1->weave) (2.32.3)\n",
      "Collecting sentry-sdk>=2.0.0 (from wandb>=0.17.1->weave)\n",
      "  Using cached sentry_sdk-2.21.0-py2.py3-none-any.whl.metadata (10 kB)\n",
      "Collecting setproctitle (from wandb>=0.17.1->weave)\n",
      "  Using cached setproctitle-1.3.4-cp311-cp311-macosx_11_0_arm64.whl.metadata (10 kB)\n",
      "Requirement already satisfied: setuptools in /opt/homebrew/lib/python3.11/site-packages (from wandb>=0.17.1->weave) (75.6.0)\n",
      "Collecting graphql-core<3.3,>=3.2 (from gql[aiohttp,requests]->weave)\n",
      "  Using cached graphql_core-3.2.6-py3-none-any.whl.metadata (11 kB)\n",
      "Requirement already satisfied: yarl<2.0,>=1.6 in /opt/homebrew/lib/python3.11/site-packages (from gql[aiohttp,requests]->weave) (1.18.3)\n",
      "Requirement already satisfied: backoff<3.0,>=1.11.1 in /opt/homebrew/lib/python3.11/site-packages (from gql[aiohttp,requests]->weave) (2.2.1)\n",
      "Requirement already satisfied: anyio<5,>=3.0 in /opt/homebrew/lib/python3.11/site-packages (from gql[aiohttp,requests]->weave) (4.8.0)\n",
      "Requirement already satisfied: aiohttp<4,>=3.8.0 in /opt/homebrew/lib/python3.11/site-packages (from gql[aiohttp,requests]->weave) (3.11.11)\n",
      "Collecting requests-toolbelt<2,>=1.0.0 (from gql[aiohttp,requests]->weave)\n",
      "  Using cached requests_toolbelt-1.0.0-py2.py3-none-any.whl.metadata (14 kB)\n",
      "Requirement already satisfied: markdown-it-py>=2.2.0 in /opt/homebrew/lib/python3.11/site-packages (from rich->weave) (3.0.0)\n",
      "Requirement already satisfied: pygments<3.0.0,>=2.13.0 in /Users/cvk/Library/Python/3.11/lib/python/site-packages (from rich->weave) (2.15.1)\n",
      "Requirement already satisfied: aiohappyeyeballs>=2.3.0 in /opt/homebrew/lib/python3.11/site-packages (from aiohttp<4,>=3.8.0->gql[aiohttp,requests]->weave) (2.4.4)\n",
      "Requirement already satisfied: aiosignal>=1.1.2 in /opt/homebrew/lib/python3.11/site-packages (from aiohttp<4,>=3.8.0->gql[aiohttp,requests]->weave) (1.3.1)\n",
      "Requirement already satisfied: frozenlist>=1.1.1 in /opt/homebrew/lib/python3.11/site-packages (from aiohttp<4,>=3.8.0->gql[aiohttp,requests]->weave) (1.3.3)\n",
      "Requirement already satisfied: multidict<7.0,>=4.5 in /opt/homebrew/lib/python3.11/site-packages (from aiohttp<4,>=3.8.0->gql[aiohttp,requests]->weave) (6.0.4)\n",
      "Requirement already satisfied: propcache>=0.2.0 in /opt/homebrew/lib/python3.11/site-packages (from aiohttp<4,>=3.8.0->gql[aiohttp,requests]->weave) (0.2.1)\n",
      "Requirement already satisfied: idna>=2.8 in /opt/homebrew/lib/python3.11/site-packages (from anyio<5,>=3.0->gql[aiohttp,requests]->weave) (3.10)\n",
      "Requirement already satisfied: sniffio>=1.1 in /opt/homebrew/lib/python3.11/site-packages (from anyio<5,>=3.0->gql[aiohttp,requests]->weave) (1.3.1)\n",
      "Requirement already satisfied: six>=1.4.0 in /Users/cvk/Library/Python/3.11/lib/python/site-packages (from docker-pycreds>=0.4.0->wandb>=0.17.1->weave) (1.16.0)\n",
      "Requirement already satisfied: gitdb<5,>=4.0.1 in /opt/homebrew/lib/python3.11/site-packages (from gitpython!=3.1.29,>=1.0.0->wandb>=0.17.1->weave) (4.0.11)\n",
      "Requirement already satisfied: mdurl~=0.1 in /opt/homebrew/lib/python3.11/site-packages (from markdown-it-py>=2.2.0->rich->weave) (0.1.2)\n",
      "Requirement already satisfied: charset-normalizer<4,>=2 in /opt/homebrew/lib/python3.11/site-packages (from requests<3,>=2.0.0->wandb>=0.17.1->weave) (3.4.1)\n",
      "Requirement already satisfied: urllib3<3,>=1.21.1 in /opt/homebrew/lib/python3.11/site-packages (from requests<3,>=2.0.0->wandb>=0.17.1->weave) (1.26.20)\n",
      "Requirement already satisfied: certifi>=2017.4.17 in /opt/homebrew/lib/python3.11/site-packages (from requests<3,>=2.0.0->wandb>=0.17.1->weave) (2024.12.14)\n",
      "Requirement already satisfied: smmap<6,>=3.0.1 in /opt/homebrew/lib/python3.11/site-packages (from gitdb<5,>=4.0.1->gitpython!=3.1.29,>=1.0.0->wandb>=0.17.1->weave) (5.0.1)\n",
      "Using cached weave-0.51.33-py3-none-any.whl (368 kB)\n",
      "Using cached diskcache-5.6.3-py3-none-any.whl (45 kB)\n",
      "Using cached emoji-2.14.1-py3-none-any.whl (590 kB)\n",
      "Using cached jsonschema-4.23.0-py3-none-any.whl (88 kB)\n",
      "Using cached tenacity-9.0.0-py3-none-any.whl (28 kB)\n",
      "Using cached uuid_utils-0.10.0-cp39-abi3-macosx_10_12_x86_64.macosx_11_0_arm64.macosx_10_12_universal2.whl (573 kB)\n",
      "Using cached wandb-0.19.6-py3-none-macosx_11_0_arm64.whl (19.9 MB)\n",
      "Using cached docker_pycreds-0.4.0-py2.py3-none-any.whl (9.0 kB)\n",
      "Using cached graphql_core-3.2.6-py3-none-any.whl (203 kB)\n",
      "Using cached requests_toolbelt-1.0.0-py2.py3-none-any.whl (54 kB)\n",
      "Using cached sentry_sdk-2.21.0-py2.py3-none-any.whl (324 kB)\n",
      "Using cached gql-3.5.0-py2.py3-none-any.whl (74 kB)\n",
      "Using cached setproctitle-1.3.4-cp311-cp311-macosx_11_0_arm64.whl (11 kB)\n",
      "\u001b[33mWARNING: Ignoring invalid distribution ~ytest (/opt/homebrew/lib/python3.11/site-packages)\u001b[0m\u001b[33m\n",
      "\u001b[0mInstalling collected packages: uuid-utils, tenacity, setproctitle, sentry-sdk, graphql-core, emoji, docker-pycreds, diskcache, requests-toolbelt, gql, wandb, jsonschema, weave\n",
      "  Attempting uninstall: tenacity\n",
      "\u001b[33m    WARNING: Ignoring invalid distribution ~ytest (/opt/homebrew/lib/python3.11/site-packages)\u001b[0m\u001b[33m\n",
      "\u001b[0m    Found existing installation: tenacity 8.2.3\n",
      "    Uninstalling tenacity-8.2.3:\n",
      "      Successfully uninstalled tenacity-8.2.3\n",
      "  Attempting uninstall: jsonschema\n",
      "\u001b[33m    WARNING: Ignoring invalid distribution ~ytest (/opt/homebrew/lib/python3.11/site-packages)\u001b[0m\u001b[33m\n",
      "\u001b[0m    Found existing installation: jsonschema 4.21.1\n",
      "    Uninstalling jsonschema-4.21.1:\n",
      "      Successfully uninstalled jsonschema-4.21.1\n",
      "\u001b[33mWARNING: Ignoring invalid distribution ~ytest (/opt/homebrew/lib/python3.11/site-packages)\u001b[0m\u001b[33m\n",
      "\u001b[0m\u001b[31mERROR: pip's dependency resolver does not currently take into account all the packages that are installed. This behaviour is the source of the following dependency conflicts.\n",
      "langchain 0.1.17 requires tenacity<9.0.0,>=8.1.0, but you have tenacity 9.0.0 which is incompatible.\n",
      "langchain-core 0.1.52 requires tenacity<9.0.0,>=8.1.0, but you have tenacity 9.0.0 which is incompatible.\n",
      "streamlit 0.89.0 requires click<8.0,>=7.0, but you have click 8.1.8 which is incompatible.\n",
      "langchain-community 0.0.37 requires tenacity<9.0.0,>=8.1.0, but you have tenacity 9.0.0 which is incompatible.\u001b[0m\u001b[31m\n",
      "\u001b[0mSuccessfully installed diskcache-5.6.3 docker-pycreds-0.4.0 emoji-2.14.1 gql-3.5.0 graphql-core-3.2.6 jsonschema-4.23.0 requests-toolbelt-1.0.0 sentry-sdk-2.21.0 setproctitle-1.3.4 tenacity-9.0.0 uuid-utils-0.10.0 wandb-0.19.6 weave-0.51.33\n",
      "\n",
      "\u001b[1m[\u001b[0m\u001b[34;49mnotice\u001b[0m\u001b[1;39;49m]\u001b[0m\u001b[39;49m A new release of pip is available: \u001b[0m\u001b[31;49m24.3.1\u001b[0m\u001b[39;49m -> \u001b[0m\u001b[32;49m25.0.1\u001b[0m\n",
      "\u001b[1m[\u001b[0m\u001b[34;49mnotice\u001b[0m\u001b[1;39;49m]\u001b[0m\u001b[39;49m To update, run: \u001b[0m\u001b[32;49mpython3.11 -m pip install --upgrade pip\u001b[0m\n",
      "\u001b[33mWARNING: Ignoring invalid distribution ~ytest (/opt/homebrew/lib/python3.11/site-packages)\u001b[0m\u001b[33m\n",
      "\u001b[0mRequirement already satisfied: openai in /opt/homebrew/lib/python3.11/site-packages (1.59.8)\n",
      "Requirement already satisfied: anyio<5,>=3.5.0 in /opt/homebrew/lib/python3.11/site-packages (from openai) (4.8.0)\n",
      "Requirement already satisfied: distro<2,>=1.7.0 in /opt/homebrew/lib/python3.11/site-packages (from openai) (1.9.0)\n",
      "Requirement already satisfied: httpx<1,>=0.23.0 in /opt/homebrew/lib/python3.11/site-packages (from openai) (0.27.2)\n",
      "Requirement already satisfied: jiter<1,>=0.4.0 in /opt/homebrew/lib/python3.11/site-packages (from openai) (0.5.0)\n",
      "Requirement already satisfied: pydantic<3,>=1.9.0 in /opt/homebrew/lib/python3.11/site-packages (from openai) (2.10.6)\n",
      "Requirement already satisfied: sniffio in /opt/homebrew/lib/python3.11/site-packages (from openai) (1.3.1)\n",
      "Requirement already satisfied: tqdm>4 in /opt/homebrew/lib/python3.11/site-packages (from openai) (4.67.1)\n",
      "Requirement already satisfied: typing-extensions<5,>=4.11 in /opt/homebrew/lib/python3.11/site-packages (from openai) (4.12.2)\n",
      "Requirement already satisfied: idna>=2.8 in /opt/homebrew/lib/python3.11/site-packages (from anyio<5,>=3.5.0->openai) (3.10)\n",
      "Requirement already satisfied: certifi in /opt/homebrew/lib/python3.11/site-packages (from httpx<1,>=0.23.0->openai) (2024.12.14)\n",
      "Requirement already satisfied: httpcore==1.* in /opt/homebrew/lib/python3.11/site-packages (from httpx<1,>=0.23.0->openai) (1.0.7)\n",
      "Requirement already satisfied: h11<0.15,>=0.13 in /opt/homebrew/lib/python3.11/site-packages (from httpcore==1.*->httpx<1,>=0.23.0->openai) (0.14.0)\n",
      "Requirement already satisfied: annotated-types>=0.6.0 in /opt/homebrew/lib/python3.11/site-packages (from pydantic<3,>=1.9.0->openai) (0.6.0)\n",
      "Requirement already satisfied: pydantic-core==2.27.2 in /opt/homebrew/lib/python3.11/site-packages (from pydantic<3,>=1.9.0->openai) (2.27.2)\n",
      "\u001b[33mWARNING: Ignoring invalid distribution ~ytest (/opt/homebrew/lib/python3.11/site-packages)\u001b[0m\u001b[33m\n",
      "\u001b[0m\u001b[33mWARNING: Ignoring invalid distribution ~ytest (/opt/homebrew/lib/python3.11/site-packages)\u001b[0m\u001b[33m\n",
      "\u001b[0m\n",
      "\u001b[1m[\u001b[0m\u001b[34;49mnotice\u001b[0m\u001b[1;39;49m]\u001b[0m\u001b[39;49m A new release of pip is available: \u001b[0m\u001b[31;49m24.3.1\u001b[0m\u001b[39;49m -> \u001b[0m\u001b[32;49m25.0.1\u001b[0m\n",
      "\u001b[1m[\u001b[0m\u001b[34;49mnotice\u001b[0m\u001b[1;39;49m]\u001b[0m\u001b[39;49m To update, run: \u001b[0m\u001b[32;49mpython3.11 -m pip install --upgrade pip\u001b[0m\n"
     ]
    }
   ],
   "source": [
    "!pip install weave\n",
    "!pip install openai"
   ]
  },
  {
   "cell_type": "code",
   "execution_count": 10,
   "metadata": {},
   "outputs": [
    {
     "name": "stdout",
     "output_type": "stream",
     "text": [
      "🍩 https://wandb.ai/carlkho-cvk-minerva-university/intro-example/r/call/01950c13-b06e-7c12-bb9c-a1884ba09284\n"
     ]
    },
    {
     "data": {
      "text/plain": [
       "{'fruit': 'neoskizzles', 'color': 'purple', 'flavor': 'candy'}"
      ]
     },
     "execution_count": 10,
     "metadata": {},
     "output_type": "execute_result"
    }
   ],
   "source": [
    "import weave\n",
    "import json\n",
    "from openai import OpenAI\n",
    "from dotenv import load_dotenv\n",
    "\n",
    "load_dotenv(override=True)\n",
    "\n",
    "\n",
    "@weave.op()  # 🐝 Decorator to track requests\n",
    "def extract_fruit(sentence: str) -> dict:\n",
    "    client = OpenAI()\n",
    "    system_prompt = (\n",
    "        \"Parse sentences into a JSON dict with keys: fruit, color and flavor.\"\n",
    "    )\n",
    "    response = client.chat.completions.create(\n",
    "        model=\"gpt-4o\",\n",
    "        messages=[\n",
    "            {\"role\": \"system\", \"content\": system_prompt},\n",
    "            {\"role\": \"user\", \"content\": sentence},\n",
    "        ],\n",
    "        temperature=0.7,\n",
    "        response_format={\"type\": \"json_object\"},\n",
    "    )\n",
    "    extracted = response.choices[0].message.content\n",
    "    return json.loads(extracted)\n",
    "\n",
    "\n",
    "weave.init(\"intro-example\")  # 🐝\n",
    "sentence = \"There are many fruits that were found on the recently discovered planet Goocrux. There are neoskizzles that grow there, which are purple and taste like candy.\"\n",
    "extract_fruit(sentence)"
   ]
  },
  {
   "cell_type": "code",
   "execution_count": null,
   "metadata": {},
   "outputs": [],
   "source": []
  }
 ],
 "metadata": {
  "kernelspec": {
   "display_name": "Python 3",
   "language": "python",
   "name": "python3"
  },
  "language_info": {
   "codemirror_mode": {
    "name": "ipython",
    "version": 3
   },
   "file_extension": ".py",
   "mimetype": "text/x-python",
   "name": "python",
   "nbconvert_exporter": "python",
   "pygments_lexer": "ipython3",
   "version": "3.11.11"
  }
 },
 "nbformat": 4,
 "nbformat_minor": 2
}
