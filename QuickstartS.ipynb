{
 "cells": [
  {
   "cell_type": "code",
   "execution_count": null,
   "metadata": {},
   "outputs": [],
   "source": [
    "!pip install together -q\n",
    "!pip install python-dotenv -q\n"
   ]
  },
  {
   "cell_type": "code",
   "execution_count": null,
   "metadata": {},
   "outputs": [
    {
     "name": "stdout",
     "output_type": "stream",
     "text": [
      "\u001b[33mWARNING: Ignoring invalid distribution ~ytest (/opt/homebrew/lib/python3.11/site-packages)\u001b[0m\u001b[33m\n",
      "\u001b[0m\u001b[33mWARNING: Ignoring invalid distribution ~ytest (/opt/homebrew/lib/python3.11/site-packages)\u001b[0m\u001b[33m\n",
      "\u001b[0m\u001b[33mWARNING: Ignoring invalid distribution ~ytest (/opt/homebrew/lib/python3.11/site-packages)\u001b[0m\u001b[33m\n",
      "\u001b[0m\n",
      "\u001b[1m[\u001b[0m\u001b[34;49mnotice\u001b[0m\u001b[1;39;49m]\u001b[0m\u001b[39;49m A new release of pip is available: \u001b[0m\u001b[31;49m24.3.1\u001b[0m\u001b[39;49m -> \u001b[0m\u001b[32;49m25.0.1\u001b[0m\n",
      "\u001b[1m[\u001b[0m\u001b[34;49mnotice\u001b[0m\u001b[1;39;49m]\u001b[0m\u001b[39;49m To update, run: \u001b[0m\u001b[32;49mpython3.11 -m pip install --upgrade pip\u001b[0m\n",
      "\u001b[33mWARNING: Ignoring invalid distribution ~ytest (/opt/homebrew/lib/python3.11/site-packages)\u001b[0m\u001b[33m\n",
      "\u001b[0m\u001b[33mWARNING: Ignoring invalid distribution ~ytest (/opt/homebrew/lib/python3.11/site-packages)\u001b[0m\u001b[33m\n",
      "\u001b[0m\u001b[33mWARNING: Ignoring invalid distribution ~ytest (/opt/homebrew/lib/python3.11/site-packages)\u001b[0m\u001b[33m\n",
      "\u001b[0m\n",
      "\u001b[1m[\u001b[0m\u001b[34;49mnotice\u001b[0m\u001b[1;39;49m]\u001b[0m\u001b[39;49m A new release of pip is available: \u001b[0m\u001b[31;49m24.3.1\u001b[0m\u001b[39;49m -> \u001b[0m\u001b[32;49m25.0.1\u001b[0m\n",
      "\u001b[1m[\u001b[0m\u001b[34;49mnotice\u001b[0m\u001b[1;39;49m]\u001b[0m\u001b[39;49m To update, run: \u001b[0m\u001b[32;49mpython3.11 -m pip install --upgrade pip\u001b[0m\n",
      "The city that never sleeps! New York has endless options for entertainment, culture, and adventure. Here are some fun things to do in New York:\n",
      "\n",
      "**Iconic Landmarks:**\n",
      "\n",
      "1. Statue of Liberty and Ellis Island: Take a ferry to Liberty Island to see the iconic statue up close and visit the Ellis Island Immigration Museum.\n",
      "2. Central Park: Explore the park's many walking paths, lakes, and landmarks like the Bethesda Fountain and Loeb Boathouse.\n",
      "3. Times Square: Experience the bright lights and energy of the \"Crossroads of the World.\"\n",
      "4. Empire State Building: Enjoy panoramic views of the city from the observation deck on the 86th floor.\n",
      "5. Brooklyn Bridge: Walk or bike across the iconic bridge for spectacular city views.\n",
      "\n",
      "**Museums and Galleries:**\n",
      "\n",
      "1. The Metropolitan Museum of Art: One of the world's largest and most renowned museums, with a collection that spans over 5,000 years of human history.\n",
      "2. American Museum of Natural History: Explore exhibits on dinosaurs, space, and the natural world.\n",
      "3. Museum of Modern Art (MoMA): Discover an extensive collection of modern and contemporary art.\n",
      "4. Guggenheim Museum: Admire the unique architecture and innovative exhibitions.\n",
      "5. 9/11 Memorial & Museum: A poignant tribute to the victims of the 9/11 attacks.\n",
      "\n",
      "**Food and Drink:**\n",
      "\n",
      "1. Try a classic New York-style pizza slice at Lombardi's, Joe's Pizza, or Patsy's Pizzeria.\n",
      "2. Visit a iconic diner like Sarabeth's or Ellen's Stardust Diner.\n",
      "3. Explore the diverse culinary scene in Chinatown, Little Italy, or Koreatown.\n",
      "4. Take a food tour of the city's many markets, such as Smorgasburg or Chelsea Market.\n",
      "5. Enjoy a Broadway show and a pre-theater dinner at a classic restaurant like Carmine's or Carbone.\n",
      "\n",
      "**Performing Arts:**\n",
      "\n",
      "1. Broadway Shows: Catch a performance of a hit musical or play on the Great White Way.\n",
      "2. Lincoln Center: Attend a concert, ballet, or opera performance at this world-renowned complex.\n",
      "3. Carnegie Hall: Experience the iconic concert venue's perfect acoustics.\n",
      "4. Jazz Clubs: Visit legendary clubs like Blue Note, Village Vanguard, or Birdland.\n",
      "5. Comedy Clubs: Laugh out loud at comedy clubs like Carolines on Broadway or the Comedy Cellar.\n",
      "\n",
      "**Outdoor Activities:**\n",
      "\n",
      "1. Walk or bike along the Hudson River Greenway: Enjoy stunning views of the river and New Jersey Palisades.\n",
      "2. Visit the High Line: An elevated park built on an old rail line, with great views of the city.\n",
      "3. Explore the Bronx's Van Cortlandt Park: A large park with hiking trails, lakes, and the Van Cortlandt House Museum.\n",
      "4. Take a stroll through Brooklyn's Prospect Park: A beautiful park with a lake, walking trails, and plenty of picnic spots.\n",
      "5. Go kayaking or paddleboarding on the East River: Rent equipment and enjoy the city from a different perspective.\n",
      "\n",
      "**Sports:**\n",
      "\n",
      "1. Catch a Yankees game at Yankee Stadium: Experience the excitement of a live baseball game.\n",
      "2. Visit Madison Square Garden: Home of the New York Knicks (basketball) and New York Rangers (hockey).\n",
      "3. Watch a US Open tennis match at Flushing Meadows: One of the most prestigious tennis tournaments in the world.\n",
      "4. Take a tour of Citi Field: Home of the New York Mets baseball team.\n",
      "5. Go to a Brooklyn Nets game at Barclays Center: Experience the energy of a live basketball game.\n",
      "\n",
      "**Neighborhoods to Explore:**\n",
      "\n",
      "1. SoHo: Known for its cast-iron buildings, trendy boutiques, and art galleries.\n",
      "2. Greenwich Village: A charming neighborhood with historic brownstones, jazz clubs, and restaurants.\n",
      "3. Williamsburg: A hip neighborhood in Brooklyn with a thriving arts and music scene.\n",
      "4. Harlem: Explore the rich history and culture of this iconic neighborhood, including the Apollo Theater and African American museums.\n",
      "5. Chinatown and Little Italy: Experience the vibrant streets, food, and culture of these adjacent neighborhoods.\n",
      "\n",
      "These are just a few of the many fun things to do in New York. With so much to see and do, you're sure to find something that suits your interests and makes your trip unforgettable!\n"
     ]
    }
   ],
   "source": [
    "from together import Together\n",
    "from dotenv import load_dotenv\n",
    "\n",
    "load_dotenv(override=True)\n",
    "\n",
    "client = Together()\n",
    "\n",
    "response = client.chat.completions.create(\n",
    "    model=\"meta-llama/Llama-3.3-70B-Instruct-Turbo\",\n",
    "    messages=[\n",
    "        {\"role\": \"user\", \"content\": \"What are some fun things to do in New York?\"}\n",
    "    ],\n",
    ")\n",
    "print(response.choices[0].message.content)"
   ]
  },
  {
   "cell_type": "code",
   "execution_count": null,
   "metadata": {},
   "outputs": [],
   "source": []
  }
 ],
 "metadata": {
  "kernelspec": {
   "display_name": "Python 3",
   "language": "python",
   "name": "python3"
  },
  "language_info": {
   "codemirror_mode": {
    "name": "ipython",
    "version": 3
   },
   "file_extension": ".py",
   "mimetype": "text/x-python",
   "name": "python",
   "nbconvert_exporter": "python",
   "pygments_lexer": "ipython3",
   "version": "3.11.11"
  }
 },
 "nbformat": 4,
 "nbformat_minor": 2
}
